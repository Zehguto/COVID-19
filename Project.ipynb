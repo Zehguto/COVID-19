{
 "cells": [
  {
   "cell_type": "code",
   "execution_count": 49,
   "metadata": {},
   "outputs": [],
   "source": [
    "import pandas as pd\n",
    "import matplotlib.pyplot as plt\n",
    "import seaborn as sns\n"
   ]
  },
  {
   "cell_type": "code",
   "execution_count": 50,
   "metadata": {},
   "outputs": [],
   "source": [
    "df = pd.read_csv('datasetcovid.csv')"
   ]
  },
  {
   "cell_type": "code",
   "execution_count": 51,
   "metadata": {},
   "outputs": [
    {
     "name": "stdout",
     "output_type": "stream",
     "text": [
      "<class 'pandas.core.frame.DataFrame'>\n",
      "RangeIndex: 1048575 entries, 0 to 1048574\n",
      "Data columns (total 21 columns):\n",
      " #   Column                Non-Null Count    Dtype \n",
      "---  ------                --------------    ----- \n",
      " 0   USMER                 1048575 non-null  int64 \n",
      " 1   MEDICAL_UNIT          1048575 non-null  int64 \n",
      " 2   SEX                   1048575 non-null  int64 \n",
      " 3   PATIENT_TYPE          1048575 non-null  int64 \n",
      " 4   DATE_DIED             1048575 non-null  object\n",
      " 5   INTUBED               1048575 non-null  int64 \n",
      " 6   PNEUMONIA             1048575 non-null  int64 \n",
      " 7   AGE                   1048575 non-null  int64 \n",
      " 8   PREGNANT              1048575 non-null  int64 \n",
      " 9   DIABETES              1048575 non-null  int64 \n",
      " 10  COPD                  1048575 non-null  int64 \n",
      " 11  ASTHMA                1048575 non-null  int64 \n",
      " 12  INMSUPR               1048575 non-null  int64 \n",
      " 13  HIPERTENSION          1048575 non-null  int64 \n",
      " 14  OTHER_DISEASE         1048575 non-null  int64 \n",
      " 15  CARDIOVASCULAR        1048575 non-null  int64 \n",
      " 16  OBESITY               1048575 non-null  int64 \n",
      " 17  RENAL_CHRONIC         1048575 non-null  int64 \n",
      " 18  TOBACCO               1048575 non-null  int64 \n",
      " 19  CLASIFFICATION_FINAL  1048575 non-null  int64 \n",
      " 20  ICU                   1048575 non-null  int64 \n",
      "dtypes: int64(20), object(1)\n",
      "memory usage: 168.0+ MB\n"
     ]
    }
   ],
   "source": [
    "df.info()"
   ]
  },
  {
   "cell_type": "code",
   "execution_count": 52,
   "metadata": {},
   "outputs": [
    {
     "data": {
      "text/html": [
       "<div>\n",
       "<style scoped>\n",
       "    .dataframe tbody tr th:only-of-type {\n",
       "        vertical-align: middle;\n",
       "    }\n",
       "\n",
       "    .dataframe tbody tr th {\n",
       "        vertical-align: top;\n",
       "    }\n",
       "\n",
       "    .dataframe thead th {\n",
       "        text-align: right;\n",
       "    }\n",
       "</style>\n",
       "<table border=\"1\" class=\"dataframe\">\n",
       "  <thead>\n",
       "    <tr style=\"text-align: right;\">\n",
       "      <th></th>\n",
       "      <th>USMER</th>\n",
       "      <th>MEDICAL_UNIT</th>\n",
       "      <th>SEX</th>\n",
       "      <th>PATIENT_TYPE</th>\n",
       "      <th>DATE_DIED</th>\n",
       "      <th>INTUBED</th>\n",
       "      <th>PNEUMONIA</th>\n",
       "      <th>AGE</th>\n",
       "      <th>PREGNANT</th>\n",
       "      <th>DIABETES</th>\n",
       "      <th>...</th>\n",
       "      <th>ASTHMA</th>\n",
       "      <th>INMSUPR</th>\n",
       "      <th>HIPERTENSION</th>\n",
       "      <th>OTHER_DISEASE</th>\n",
       "      <th>CARDIOVASCULAR</th>\n",
       "      <th>OBESITY</th>\n",
       "      <th>RENAL_CHRONIC</th>\n",
       "      <th>TOBACCO</th>\n",
       "      <th>CLASIFFICATION_FINAL</th>\n",
       "      <th>ICU</th>\n",
       "    </tr>\n",
       "  </thead>\n",
       "  <tbody>\n",
       "    <tr>\n",
       "      <th>0</th>\n",
       "      <td>2</td>\n",
       "      <td>1</td>\n",
       "      <td>1</td>\n",
       "      <td>1</td>\n",
       "      <td>03/05/2020</td>\n",
       "      <td>97</td>\n",
       "      <td>1</td>\n",
       "      <td>65</td>\n",
       "      <td>2</td>\n",
       "      <td>2</td>\n",
       "      <td>...</td>\n",
       "      <td>2</td>\n",
       "      <td>2</td>\n",
       "      <td>1</td>\n",
       "      <td>2</td>\n",
       "      <td>2</td>\n",
       "      <td>2</td>\n",
       "      <td>2</td>\n",
       "      <td>2</td>\n",
       "      <td>3</td>\n",
       "      <td>97</td>\n",
       "    </tr>\n",
       "    <tr>\n",
       "      <th>1</th>\n",
       "      <td>2</td>\n",
       "      <td>1</td>\n",
       "      <td>2</td>\n",
       "      <td>1</td>\n",
       "      <td>03/06/2020</td>\n",
       "      <td>97</td>\n",
       "      <td>1</td>\n",
       "      <td>72</td>\n",
       "      <td>97</td>\n",
       "      <td>2</td>\n",
       "      <td>...</td>\n",
       "      <td>2</td>\n",
       "      <td>2</td>\n",
       "      <td>1</td>\n",
       "      <td>2</td>\n",
       "      <td>2</td>\n",
       "      <td>1</td>\n",
       "      <td>1</td>\n",
       "      <td>2</td>\n",
       "      <td>5</td>\n",
       "      <td>97</td>\n",
       "    </tr>\n",
       "    <tr>\n",
       "      <th>2</th>\n",
       "      <td>2</td>\n",
       "      <td>1</td>\n",
       "      <td>2</td>\n",
       "      <td>2</td>\n",
       "      <td>09/06/2020</td>\n",
       "      <td>1</td>\n",
       "      <td>2</td>\n",
       "      <td>55</td>\n",
       "      <td>97</td>\n",
       "      <td>1</td>\n",
       "      <td>...</td>\n",
       "      <td>2</td>\n",
       "      <td>2</td>\n",
       "      <td>2</td>\n",
       "      <td>2</td>\n",
       "      <td>2</td>\n",
       "      <td>2</td>\n",
       "      <td>2</td>\n",
       "      <td>2</td>\n",
       "      <td>3</td>\n",
       "      <td>2</td>\n",
       "    </tr>\n",
       "    <tr>\n",
       "      <th>3</th>\n",
       "      <td>2</td>\n",
       "      <td>1</td>\n",
       "      <td>1</td>\n",
       "      <td>1</td>\n",
       "      <td>12/06/2020</td>\n",
       "      <td>97</td>\n",
       "      <td>2</td>\n",
       "      <td>53</td>\n",
       "      <td>2</td>\n",
       "      <td>2</td>\n",
       "      <td>...</td>\n",
       "      <td>2</td>\n",
       "      <td>2</td>\n",
       "      <td>2</td>\n",
       "      <td>2</td>\n",
       "      <td>2</td>\n",
       "      <td>2</td>\n",
       "      <td>2</td>\n",
       "      <td>2</td>\n",
       "      <td>7</td>\n",
       "      <td>97</td>\n",
       "    </tr>\n",
       "    <tr>\n",
       "      <th>4</th>\n",
       "      <td>2</td>\n",
       "      <td>1</td>\n",
       "      <td>2</td>\n",
       "      <td>1</td>\n",
       "      <td>21/06/2020</td>\n",
       "      <td>97</td>\n",
       "      <td>2</td>\n",
       "      <td>68</td>\n",
       "      <td>97</td>\n",
       "      <td>1</td>\n",
       "      <td>...</td>\n",
       "      <td>2</td>\n",
       "      <td>2</td>\n",
       "      <td>1</td>\n",
       "      <td>2</td>\n",
       "      <td>2</td>\n",
       "      <td>2</td>\n",
       "      <td>2</td>\n",
       "      <td>2</td>\n",
       "      <td>3</td>\n",
       "      <td>97</td>\n",
       "    </tr>\n",
       "  </tbody>\n",
       "</table>\n",
       "<p>5 rows × 21 columns</p>\n",
       "</div>"
      ],
      "text/plain": [
       "   USMER  MEDICAL_UNIT  SEX  PATIENT_TYPE   DATE_DIED  INTUBED  PNEUMONIA  \\\n",
       "0      2             1    1             1  03/05/2020       97          1   \n",
       "1      2             1    2             1  03/06/2020       97          1   \n",
       "2      2             1    2             2  09/06/2020        1          2   \n",
       "3      2             1    1             1  12/06/2020       97          2   \n",
       "4      2             1    2             1  21/06/2020       97          2   \n",
       "\n",
       "   AGE  PREGNANT  DIABETES  ...  ASTHMA  INMSUPR  HIPERTENSION  OTHER_DISEASE  \\\n",
       "0   65         2         2  ...       2        2             1              2   \n",
       "1   72        97         2  ...       2        2             1              2   \n",
       "2   55        97         1  ...       2        2             2              2   \n",
       "3   53         2         2  ...       2        2             2              2   \n",
       "4   68        97         1  ...       2        2             1              2   \n",
       "\n",
       "   CARDIOVASCULAR  OBESITY  RENAL_CHRONIC  TOBACCO  CLASIFFICATION_FINAL  ICU  \n",
       "0               2        2              2        2                     3   97  \n",
       "1               2        1              1        2                     5   97  \n",
       "2               2        2              2        2                     3    2  \n",
       "3               2        2              2        2                     7   97  \n",
       "4               2        2              2        2                     3   97  \n",
       "\n",
       "[5 rows x 21 columns]"
      ]
     },
     "execution_count": 52,
     "metadata": {},
     "output_type": "execute_result"
    }
   ],
   "source": [
    "df.head()\n"
   ]
  },
  {
   "cell_type": "code",
   "execution_count": 53,
   "metadata": {},
   "outputs": [],
   "source": [
    "good_columns=['AGE','SEX', 'DATE_DIED', 'PNEUMONIA', 'COPD', 'ASTHMA','DIABETES', 'INMSUPR', 'HIPERTENSION', 'CARDIOVASCULAR', 'OBESITY', 'RENAL_CHRONIC', 'TOBACCO','CLASIFFICATION_FINAL']\n",
    "df = df[good_columns]\n"
   ]
  },
  {
   "cell_type": "code",
   "execution_count": 54,
   "metadata": {},
   "outputs": [
    {
     "data": {
      "text/plain": [
       "(53515, 14)"
      ]
     },
     "execution_count": 54,
     "metadata": {},
     "output_type": "execute_result"
    }
   ],
   "source": [
    "df = df[(df.DATE_DIED != '9999-99-99')]\n",
    "df = df[(df.PNEUMONIA == 1) | (df.PNEUMONIA == 2)]\n",
    "df = df[(df.DIABETES == 1) | (df.DIABETES == 2)]\n",
    "df = df[(df.COPD == 1) | (df.COPD == 2)]\n",
    "df = df[(df.ASTHMA == 1) | (df.ASTHMA == 2)]\n",
    "df = df[(df.INMSUPR == 1) | (df.INMSUPR == 2)]\n",
    "df = df[(df.HIPERTENSION == 1) | (df.HIPERTENSION == 2)]\n",
    "df = df[(df.CARDIOVASCULAR == 1) | (df.CARDIOVASCULAR == 2)]\n",
    "df = df[(df.OBESITY == 1) | (df.OBESITY == 2)]\n",
    "df = df[(df.RENAL_CHRONIC == 1) | (df.RENAL_CHRONIC == 2)]\n",
    "df = df[(df.TOBACCO == 1) | (df.TOBACCO == 2)]\n",
    "df = df[(df.CLASIFFICATION_FINAL == 2) | (df.CLASIFFICATION_FINAL == 3)| (df.CLASIFFICATION_FINAL == 1)]\n",
    "df.shape"
   ]
  },
  {
   "cell_type": "code",
   "execution_count": 55,
   "metadata": {},
   "outputs": [
    {
     "name": "stdout",
     "output_type": "stream",
     "text": [
      "<class 'pandas.core.frame.DataFrame'>\n",
      "Index: 53515 entries, 0 to 1047638\n",
      "Data columns (total 14 columns):\n",
      " #   Column                Non-Null Count  Dtype \n",
      "---  ------                --------------  ----- \n",
      " 0   AGE                   53515 non-null  int64 \n",
      " 1   SEX                   53515 non-null  int64 \n",
      " 2   DATE_DIED             53515 non-null  object\n",
      " 3   PNEUMONIA             53515 non-null  int64 \n",
      " 4   COPD                  53515 non-null  int64 \n",
      " 5   ASTHMA                53515 non-null  int64 \n",
      " 6   DIABETES              53515 non-null  int64 \n",
      " 7   INMSUPR               53515 non-null  int64 \n",
      " 8   HIPERTENSION          53515 non-null  int64 \n",
      " 9   CARDIOVASCULAR        53515 non-null  int64 \n",
      " 10  OBESITY               53515 non-null  int64 \n",
      " 11  RENAL_CHRONIC         53515 non-null  int64 \n",
      " 12  TOBACCO               53515 non-null  int64 \n",
      " 13  CLASIFFICATION_FINAL  53515 non-null  int64 \n",
      "dtypes: int64(13), object(1)\n",
      "memory usage: 6.1+ MB\n"
     ]
    }
   ],
   "source": [
    "df.info()"
   ]
  },
  {
   "cell_type": "code",
   "execution_count": 56,
   "metadata": {},
   "outputs": [
    {
     "data": {
      "text/html": [
       "<div>\n",
       "<style scoped>\n",
       "    .dataframe tbody tr th:only-of-type {\n",
       "        vertical-align: middle;\n",
       "    }\n",
       "\n",
       "    .dataframe tbody tr th {\n",
       "        vertical-align: top;\n",
       "    }\n",
       "\n",
       "    .dataframe thead th {\n",
       "        text-align: right;\n",
       "    }\n",
       "</style>\n",
       "<table border=\"1\" class=\"dataframe\">\n",
       "  <thead>\n",
       "    <tr style=\"text-align: right;\">\n",
       "      <th></th>\n",
       "      <th>AGE</th>\n",
       "      <th>SEX</th>\n",
       "      <th>DATE_DIED</th>\n",
       "      <th>PNEUMONIA</th>\n",
       "      <th>COPD</th>\n",
       "      <th>ASTHMA</th>\n",
       "      <th>DIABETES</th>\n",
       "      <th>INMSUPR</th>\n",
       "      <th>HIPERTENSION</th>\n",
       "      <th>CARDIOVASCULAR</th>\n",
       "      <th>OBESITY</th>\n",
       "      <th>RENAL_CHRONIC</th>\n",
       "      <th>TOBACCO</th>\n",
       "      <th>CLASIFFICATION_FINAL</th>\n",
       "    </tr>\n",
       "  </thead>\n",
       "  <tbody>\n",
       "    <tr>\n",
       "      <th>0</th>\n",
       "      <td>65</td>\n",
       "      <td>1</td>\n",
       "      <td>03/05/2020</td>\n",
       "      <td>1</td>\n",
       "      <td>2</td>\n",
       "      <td>2</td>\n",
       "      <td>2</td>\n",
       "      <td>2</td>\n",
       "      <td>1</td>\n",
       "      <td>2</td>\n",
       "      <td>2</td>\n",
       "      <td>2</td>\n",
       "      <td>2</td>\n",
       "      <td>3</td>\n",
       "    </tr>\n",
       "    <tr>\n",
       "      <th>2</th>\n",
       "      <td>55</td>\n",
       "      <td>2</td>\n",
       "      <td>09/06/2020</td>\n",
       "      <td>2</td>\n",
       "      <td>2</td>\n",
       "      <td>2</td>\n",
       "      <td>1</td>\n",
       "      <td>2</td>\n",
       "      <td>2</td>\n",
       "      <td>2</td>\n",
       "      <td>2</td>\n",
       "      <td>2</td>\n",
       "      <td>2</td>\n",
       "      <td>3</td>\n",
       "    </tr>\n",
       "    <tr>\n",
       "      <th>4</th>\n",
       "      <td>68</td>\n",
       "      <td>2</td>\n",
       "      <td>21/06/2020</td>\n",
       "      <td>2</td>\n",
       "      <td>2</td>\n",
       "      <td>2</td>\n",
       "      <td>1</td>\n",
       "      <td>2</td>\n",
       "      <td>1</td>\n",
       "      <td>2</td>\n",
       "      <td>2</td>\n",
       "      <td>2</td>\n",
       "      <td>2</td>\n",
       "      <td>3</td>\n",
       "    </tr>\n",
       "    <tr>\n",
       "      <th>336</th>\n",
       "      <td>47</td>\n",
       "      <td>2</td>\n",
       "      <td>28/03/2020</td>\n",
       "      <td>1</td>\n",
       "      <td>1</td>\n",
       "      <td>2</td>\n",
       "      <td>2</td>\n",
       "      <td>2</td>\n",
       "      <td>1</td>\n",
       "      <td>2</td>\n",
       "      <td>1</td>\n",
       "      <td>2</td>\n",
       "      <td>2</td>\n",
       "      <td>3</td>\n",
       "    </tr>\n",
       "    <tr>\n",
       "      <th>337</th>\n",
       "      <td>43</td>\n",
       "      <td>2</td>\n",
       "      <td>29/03/2020</td>\n",
       "      <td>1</td>\n",
       "      <td>2</td>\n",
       "      <td>2</td>\n",
       "      <td>2</td>\n",
       "      <td>2</td>\n",
       "      <td>2</td>\n",
       "      <td>2</td>\n",
       "      <td>2</td>\n",
       "      <td>2</td>\n",
       "      <td>1</td>\n",
       "      <td>3</td>\n",
       "    </tr>\n",
       "  </tbody>\n",
       "</table>\n",
       "</div>"
      ],
      "text/plain": [
       "     AGE  SEX   DATE_DIED  PNEUMONIA  COPD  ASTHMA  DIABETES  INMSUPR  \\\n",
       "0     65    1  03/05/2020          1     2       2         2        2   \n",
       "2     55    2  09/06/2020          2     2       2         1        2   \n",
       "4     68    2  21/06/2020          2     2       2         1        2   \n",
       "336   47    2  28/03/2020          1     1       2         2        2   \n",
       "337   43    2  29/03/2020          1     2       2         2        2   \n",
       "\n",
       "     HIPERTENSION  CARDIOVASCULAR  OBESITY  RENAL_CHRONIC  TOBACCO  \\\n",
       "0               1               2        2              2        2   \n",
       "2               2               2        2              2        2   \n",
       "4               1               2        2              2        2   \n",
       "336             1               2        1              2        2   \n",
       "337             2               2        2              2        1   \n",
       "\n",
       "     CLASIFFICATION_FINAL  \n",
       "0                       3  \n",
       "2                       3  \n",
       "4                       3  \n",
       "336                     3  \n",
       "337                     3  "
      ]
     },
     "execution_count": 56,
     "metadata": {},
     "output_type": "execute_result"
    }
   ],
   "source": [
    "df.head()"
   ]
  },
  {
   "cell_type": "code",
   "execution_count": 57,
   "metadata": {},
   "outputs": [
    {
     "data": {
      "text/plain": [
       "(53515, 14)"
      ]
     },
     "execution_count": 57,
     "metadata": {},
     "output_type": "execute_result"
    }
   ],
   "source": [
    "df.shape"
   ]
  },
  {
   "cell_type": "code",
   "execution_count": 58,
   "metadata": {},
   "outputs": [
    {
     "data": {
      "text/plain": [
       "DATE_DIED\n",
       "13/07/2020    775\n",
       "06/07/2020    769\n",
       "07/07/2020    749\n",
       "16/07/2020    749\n",
       "15/07/2020    738\n",
       "             ... \n",
       "20/02/2021      1\n",
       "18/02/2021      1\n",
       "11/02/2021      1\n",
       "10/02/2021      1\n",
       "17/04/2021      1\n",
       "Name: count, Length: 287, dtype: int64"
      ]
     },
     "execution_count": 58,
     "metadata": {},
     "output_type": "execute_result"
    }
   ],
   "source": [
    "df.DATE_DIED.value_counts()"
   ]
  },
  {
   "cell_type": "code",
   "execution_count": 59,
   "metadata": {},
   "outputs": [
    {
     "data": {
      "text/plain": [
       "CLASIFFICATION_FINAL\n",
       "3    50810\n",
       "2     1803\n",
       "1      902\n",
       "Name: count, dtype: int64"
      ]
     },
     "execution_count": 59,
     "metadata": {},
     "output_type": "execute_result"
    }
   ],
   "source": [
    "df.CLASIFFICATION_FINAL.value_counts()"
   ]
  },
  {
   "cell_type": "code",
   "execution_count": 60,
   "metadata": {},
   "outputs": [],
   "source": [
    "df['DATE_DIED'] = pd.to_datetime(df['DATE_DIED'], format='%d/%m/%Y')\n",
    "df = df[~(df['DATE_DIED'].dt.year == 2021)]"
   ]
  },
  {
   "cell_type": "code",
   "execution_count": 61,
   "metadata": {},
   "outputs": [
    {
     "name": "stdout",
     "output_type": "stream",
     "text": [
      "AGE\n",
      "0      48\n",
      "1      38\n",
      "2       8\n",
      "3       5\n",
      "4       5\n",
      "       ..\n",
      "99      9\n",
      "100    14\n",
      "101     5\n",
      "102     1\n",
      "103     1\n",
      "Name: count, Length: 104, dtype: int64\n"
     ]
    }
   ],
   "source": [
    "df_age=df['AGE'].value_counts().sort_index()\n",
    "print(df_age)"
   ]
  },
  {
   "cell_type": "code",
   "execution_count": 62,
   "metadata": {},
   "outputs": [
    {
     "name": "stdout",
     "output_type": "stream",
     "text": [
      "media: 61.54312284385781\n"
     ]
    }
   ],
   "source": [
    "media = df['AGE'].mean()\n",
    "print(f\"media: {media}\")"
   ]
  },
  {
   "cell_type": "code",
   "execution_count": 63,
   "metadata": {},
   "outputs": [
    {
     "data": {
      "text/html": [
       "<div>\n",
       "<style scoped>\n",
       "    .dataframe tbody tr th:only-of-type {\n",
       "        vertical-align: middle;\n",
       "    }\n",
       "\n",
       "    .dataframe tbody tr th {\n",
       "        vertical-align: top;\n",
       "    }\n",
       "\n",
       "    .dataframe thead th {\n",
       "        text-align: right;\n",
       "    }\n",
       "</style>\n",
       "<table border=\"1\" class=\"dataframe\">\n",
       "  <thead>\n",
       "    <tr style=\"text-align: right;\">\n",
       "      <th></th>\n",
       "      <th>AGE</th>\n",
       "      <th>SEX</th>\n",
       "      <th>DATE_DIED</th>\n",
       "      <th>PNEUMONIA</th>\n",
       "      <th>COPD</th>\n",
       "      <th>ASTHMA</th>\n",
       "      <th>DIABETES</th>\n",
       "      <th>INMSUPR</th>\n",
       "      <th>HIPERTENSION</th>\n",
       "      <th>CARDIOVASCULAR</th>\n",
       "      <th>OBESITY</th>\n",
       "      <th>RENAL_CHRONIC</th>\n",
       "      <th>TOBACCO</th>\n",
       "      <th>CLASIFFICATION_FINAL</th>\n",
       "    </tr>\n",
       "  </thead>\n",
       "  <tbody>\n",
       "    <tr>\n",
       "      <th>0</th>\n",
       "      <td>65</td>\n",
       "      <td>female</td>\n",
       "      <td>2020-05-03</td>\n",
       "      <td>1</td>\n",
       "      <td>2</td>\n",
       "      <td>2</td>\n",
       "      <td>2</td>\n",
       "      <td>2</td>\n",
       "      <td>1</td>\n",
       "      <td>2</td>\n",
       "      <td>2</td>\n",
       "      <td>2</td>\n",
       "      <td>2</td>\n",
       "      <td>3</td>\n",
       "    </tr>\n",
       "    <tr>\n",
       "      <th>2</th>\n",
       "      <td>55</td>\n",
       "      <td>male</td>\n",
       "      <td>2020-06-09</td>\n",
       "      <td>2</td>\n",
       "      <td>2</td>\n",
       "      <td>2</td>\n",
       "      <td>1</td>\n",
       "      <td>2</td>\n",
       "      <td>2</td>\n",
       "      <td>2</td>\n",
       "      <td>2</td>\n",
       "      <td>2</td>\n",
       "      <td>2</td>\n",
       "      <td>3</td>\n",
       "    </tr>\n",
       "    <tr>\n",
       "      <th>4</th>\n",
       "      <td>68</td>\n",
       "      <td>male</td>\n",
       "      <td>2020-06-21</td>\n",
       "      <td>2</td>\n",
       "      <td>2</td>\n",
       "      <td>2</td>\n",
       "      <td>1</td>\n",
       "      <td>2</td>\n",
       "      <td>1</td>\n",
       "      <td>2</td>\n",
       "      <td>2</td>\n",
       "      <td>2</td>\n",
       "      <td>2</td>\n",
       "      <td>3</td>\n",
       "    </tr>\n",
       "    <tr>\n",
       "      <th>336</th>\n",
       "      <td>47</td>\n",
       "      <td>male</td>\n",
       "      <td>2020-03-28</td>\n",
       "      <td>1</td>\n",
       "      <td>1</td>\n",
       "      <td>2</td>\n",
       "      <td>2</td>\n",
       "      <td>2</td>\n",
       "      <td>1</td>\n",
       "      <td>2</td>\n",
       "      <td>1</td>\n",
       "      <td>2</td>\n",
       "      <td>2</td>\n",
       "      <td>3</td>\n",
       "    </tr>\n",
       "    <tr>\n",
       "      <th>337</th>\n",
       "      <td>43</td>\n",
       "      <td>male</td>\n",
       "      <td>2020-03-29</td>\n",
       "      <td>1</td>\n",
       "      <td>2</td>\n",
       "      <td>2</td>\n",
       "      <td>2</td>\n",
       "      <td>2</td>\n",
       "      <td>2</td>\n",
       "      <td>2</td>\n",
       "      <td>2</td>\n",
       "      <td>2</td>\n",
       "      <td>1</td>\n",
       "      <td>3</td>\n",
       "    </tr>\n",
       "  </tbody>\n",
       "</table>\n",
       "</div>"
      ],
      "text/plain": [
       "     AGE     SEX  DATE_DIED  PNEUMONIA  COPD  ASTHMA  DIABETES  INMSUPR  \\\n",
       "0     65  female 2020-05-03          1     2       2         2        2   \n",
       "2     55    male 2020-06-09          2     2       2         1        2   \n",
       "4     68    male 2020-06-21          2     2       2         1        2   \n",
       "336   47    male 2020-03-28          1     1       2         2        2   \n",
       "337   43    male 2020-03-29          1     2       2         2        2   \n",
       "\n",
       "     HIPERTENSION  CARDIOVASCULAR  OBESITY  RENAL_CHRONIC  TOBACCO  \\\n",
       "0               1               2        2              2        2   \n",
       "2               2               2        2              2        2   \n",
       "4               1               2        2              2        2   \n",
       "336             1               2        1              2        2   \n",
       "337             2               2        2              2        1   \n",
       "\n",
       "     CLASIFFICATION_FINAL  \n",
       "0                       3  \n",
       "2                       3  \n",
       "4                       3  \n",
       "336                     3  \n",
       "337                     3  "
      ]
     },
     "execution_count": 63,
     "metadata": {},
     "output_type": "execute_result"
    }
   ],
   "source": [
    "df['SEX'] = df['SEX'].replace({1: 'female', 2: 'male'})\n",
    "df.head()"
   ]
  },
  {
   "cell_type": "code",
   "execution_count": 64,
   "metadata": {},
   "outputs": [
    {
     "name": "stdout",
     "output_type": "stream",
     "text": [
      "SEX\n",
      "male      34667\n",
      "female    18669\n",
      "Name: count, dtype: int64\n"
     ]
    }
   ],
   "source": [
    "df_sex = df['SEX'].value_counts()\n",
    "print(df_sex)"
   ]
  },
  {
   "cell_type": "code",
   "execution_count": 65,
   "metadata": {},
   "outputs": [
    {
     "name": "stdout",
     "output_type": "stream",
     "text": [
      "<class 'pandas.core.frame.DataFrame'>\n",
      "Index: 53336 entries, 0 to 1047638\n",
      "Data columns (total 14 columns):\n",
      " #   Column                Non-Null Count  Dtype         \n",
      "---  ------                --------------  -----         \n",
      " 0   AGE                   53336 non-null  int64         \n",
      " 1   SEX                   53336 non-null  object        \n",
      " 2   DATE_DIED             53336 non-null  datetime64[ns]\n",
      " 3   PNEUMONIA             53336 non-null  int64         \n",
      " 4   COPD                  53336 non-null  int64         \n",
      " 5   ASTHMA                53336 non-null  int64         \n",
      " 6   DIABETES              53336 non-null  int64         \n",
      " 7   INMSUPR               53336 non-null  int64         \n",
      " 8   HIPERTENSION          53336 non-null  int64         \n",
      " 9   CARDIOVASCULAR        53336 non-null  int64         \n",
      " 10  OBESITY               53336 non-null  int64         \n",
      " 11  RENAL_CHRONIC         53336 non-null  int64         \n",
      " 12  TOBACCO               53336 non-null  int64         \n",
      " 13  CLASIFFICATION_FINAL  53336 non-null  int64         \n",
      "dtypes: datetime64[ns](1), int64(12), object(1)\n",
      "memory usage: 6.1+ MB\n"
     ]
    }
   ],
   "source": [
    "df.info()"
   ]
  },
  {
   "cell_type": "code",
   "execution_count": 66,
   "metadata": {},
   "outputs": [
    {
     "data": {
      "text/plain": [
       "(53336, 14)"
      ]
     },
     "execution_count": 66,
     "metadata": {},
     "output_type": "execute_result"
    }
   ],
   "source": [
    "df.shape"
   ]
  },
  {
   "cell_type": "code",
   "execution_count": 67,
   "metadata": {},
   "outputs": [
    {
     "ename": "NameError",
     "evalue": "name 'df_s' is not defined",
     "output_type": "error",
     "traceback": [
      "\u001b[0;31m---------------------------------------------------------------------------\u001b[0m",
      "\u001b[0;31mNameError\u001b[0m                                 Traceback (most recent call last)",
      "Cell \u001b[0;32mIn[67], line 2\u001b[0m\n\u001b[1;32m      1\u001b[0m columns_to_drop \u001b[39m=\u001b[39m [\u001b[39m'\u001b[39m\u001b[39mAGE\u001b[39m\u001b[39m'\u001b[39m, \u001b[39m'\u001b[39m\u001b[39mSEX\u001b[39m\u001b[39m'\u001b[39m, \u001b[39m'\u001b[39m\u001b[39mDATE_DIED\u001b[39m\u001b[39m'\u001b[39m, \u001b[39m'\u001b[39m\u001b[39mCLASIFFICATION_FINAL\u001b[39m\u001b[39m'\u001b[39m]\n\u001b[0;32m----> 2\u001b[0m existing_columns \u001b[39m=\u001b[39m [column \u001b[39mfor\u001b[39;00m column \u001b[39min\u001b[39;00m columns_to_drop \u001b[39mif\u001b[39;00m column \u001b[39min\u001b[39;00m df_s\u001b[39m.\u001b[39mcolumns]\n\u001b[1;32m      4\u001b[0m df_s \u001b[39m=\u001b[39m df\u001b[39m.\u001b[39mdrop(existing_columns, axis\u001b[39m=\u001b[39m\u001b[39m1\u001b[39m)\n\u001b[1;32m      6\u001b[0m \u001b[39mfor\u001b[39;00m column \u001b[39min\u001b[39;00m df_s:\n",
      "Cell \u001b[0;32mIn[67], line 2\u001b[0m, in \u001b[0;36m<listcomp>\u001b[0;34m(.0)\u001b[0m\n\u001b[1;32m      1\u001b[0m columns_to_drop \u001b[39m=\u001b[39m [\u001b[39m'\u001b[39m\u001b[39mAGE\u001b[39m\u001b[39m'\u001b[39m, \u001b[39m'\u001b[39m\u001b[39mSEX\u001b[39m\u001b[39m'\u001b[39m, \u001b[39m'\u001b[39m\u001b[39mDATE_DIED\u001b[39m\u001b[39m'\u001b[39m, \u001b[39m'\u001b[39m\u001b[39mCLASIFFICATION_FINAL\u001b[39m\u001b[39m'\u001b[39m]\n\u001b[0;32m----> 2\u001b[0m existing_columns \u001b[39m=\u001b[39m [column \u001b[39mfor\u001b[39;00m column \u001b[39min\u001b[39;00m columns_to_drop \u001b[39mif\u001b[39;00m column \u001b[39min\u001b[39;00m df_s\u001b[39m.\u001b[39mcolumns]\n\u001b[1;32m      4\u001b[0m df_s \u001b[39m=\u001b[39m df\u001b[39m.\u001b[39mdrop(existing_columns, axis\u001b[39m=\u001b[39m\u001b[39m1\u001b[39m)\n\u001b[1;32m      6\u001b[0m \u001b[39mfor\u001b[39;00m column \u001b[39min\u001b[39;00m df_s:\n",
      "\u001b[0;31mNameError\u001b[0m: name 'df_s' is not defined"
     ]
    }
   ],
   "source": [
    "columns_to_drop = ['AGE', 'SEX', 'DATE_DIED', 'CLASIFFICATION_FINAL']\n",
    "existing_columns = [column for column in columns_to_drop if column in df_s.columns]\n",
    "\n",
    "df_s = df.drop(existing_columns, axis=1)\n",
    "\n",
    "for column in df_s:\n",
    "    count = df_s[column].eq(1).sum()\n",
    "    percentage = (count / 53515 ) * 100\n",
    "\n",
    "    print(f\"{column}: {count}--- {percentage.round(1)}%\")"
   ]
  },
  {
   "cell_type": "code",
   "execution_count": null,
   "metadata": {},
   "outputs": [
    {
     "data": {
      "text/plain": [
       "AGE                     104\n",
       "SEX                       2\n",
       "DATE_DIED               219\n",
       "PNEUMONIA                 2\n",
       "COPD                      2\n",
       "ASTHMA                    2\n",
       "DIABETES                  2\n",
       "INMSUPR                   2\n",
       "HIPERTENSION              2\n",
       "CARDIOVASCULAR            2\n",
       "OBESITY                   2\n",
       "RENAL_CHRONIC             2\n",
       "TOBACCO                   2\n",
       "CLASIFFICATION_FINAL      3\n",
       "dtype: int64"
      ]
     },
     "execution_count": 166,
     "metadata": {},
     "output_type": "execute_result"
    }
   ],
   "source": [
    "df.nunique()"
   ]
  },
  {
   "cell_type": "code",
   "execution_count": null,
   "metadata": {},
   "outputs": [
    {
     "name": "stdout",
     "output_type": "stream",
     "text": [
      "YEAR_DIED\n",
      "2020    53336\n",
      "Name: count, dtype: int64\n"
     ]
    }
   ],
   "source": [
    "df['YEAR_DIED'] = df['DATE_DIED'].dt.year\n",
    "year_counts = df['YEAR_DIED'].value_counts()\n",
    "print(year_counts)"
   ]
  },
  {
   "cell_type": "code",
   "execution_count": null,
   "metadata": {},
   "outputs": [
    {
     "name": "stdout",
     "output_type": "stream",
     "text": [
      "DAY_DIED\n",
      "16    2011\n",
      "17    1998\n",
      "15    1970\n",
      "14    1961\n",
      "13    1897\n",
      "12    1858\n",
      "18    1850\n",
      "19    1821\n",
      "7     1813\n",
      "6     1804\n",
      "8     1784\n",
      "11    1776\n",
      "10    1773\n",
      "9     1760\n",
      "21    1720\n",
      "4     1717\n",
      "20    1706\n",
      "1     1701\n",
      "29    1683\n",
      "5     1681\n",
      "22    1674\n",
      "26    1673\n",
      "3     1655\n",
      "25    1644\n",
      "27    1637\n",
      "30    1633\n",
      "28    1627\n",
      "23    1623\n",
      "2     1614\n",
      "24    1582\n",
      "31     690\n",
      "Name: count, dtype: int64\n"
     ]
    }
   ],
   "source": [
    "df['DAY_DIED'] = df['DATE_DIED'].dt.day\n",
    "day_counts = df['DAY_DIED'].value_counts()\n",
    "print(day_counts)"
   ]
  },
  {
   "cell_type": "code",
   "execution_count": null,
   "metadata": {},
   "outputs": [],
   "source": [
    "df = df.drop('MONTHS_DIED', axis=1)"
   ]
  },
  {
   "cell_type": "code",
   "execution_count": null,
   "metadata": {},
   "outputs": [
    {
     "data": {
      "text/html": [
       "<div>\n",
       "<style scoped>\n",
       "    .dataframe tbody tr th:only-of-type {\n",
       "        vertical-align: middle;\n",
       "    }\n",
       "\n",
       "    .dataframe tbody tr th {\n",
       "        vertical-align: top;\n",
       "    }\n",
       "\n",
       "    .dataframe thead th {\n",
       "        text-align: right;\n",
       "    }\n",
       "</style>\n",
       "<table border=\"1\" class=\"dataframe\">\n",
       "  <thead>\n",
       "    <tr style=\"text-align: right;\">\n",
       "      <th></th>\n",
       "      <th>AGE</th>\n",
       "      <th>SEX</th>\n",
       "      <th>DATE_DIED</th>\n",
       "      <th>PNEUMONIA</th>\n",
       "      <th>COPD</th>\n",
       "      <th>ASTHMA</th>\n",
       "      <th>DIABETES</th>\n",
       "      <th>INMSUPR</th>\n",
       "      <th>HIPERTENSION</th>\n",
       "      <th>CARDIOVASCULAR</th>\n",
       "      <th>OBESITY</th>\n",
       "      <th>RENAL_CHRONIC</th>\n",
       "      <th>TOBACCO</th>\n",
       "      <th>CLASIFFICATION_FINAL</th>\n",
       "      <th>MONTH_DIED</th>\n",
       "      <th>YEAR_DIED</th>\n",
       "      <th>DAY_DIED</th>\n",
       "    </tr>\n",
       "  </thead>\n",
       "  <tbody>\n",
       "    <tr>\n",
       "      <th>0</th>\n",
       "      <td>65</td>\n",
       "      <td>female</td>\n",
       "      <td>2020-05-03</td>\n",
       "      <td>1</td>\n",
       "      <td>2</td>\n",
       "      <td>2</td>\n",
       "      <td>2</td>\n",
       "      <td>2</td>\n",
       "      <td>1</td>\n",
       "      <td>2</td>\n",
       "      <td>2</td>\n",
       "      <td>2</td>\n",
       "      <td>2</td>\n",
       "      <td>3</td>\n",
       "      <td>5</td>\n",
       "      <td>2020</td>\n",
       "      <td>3</td>\n",
       "    </tr>\n",
       "    <tr>\n",
       "      <th>2</th>\n",
       "      <td>55</td>\n",
       "      <td>male</td>\n",
       "      <td>2020-06-09</td>\n",
       "      <td>2</td>\n",
       "      <td>2</td>\n",
       "      <td>2</td>\n",
       "      <td>1</td>\n",
       "      <td>2</td>\n",
       "      <td>2</td>\n",
       "      <td>2</td>\n",
       "      <td>2</td>\n",
       "      <td>2</td>\n",
       "      <td>2</td>\n",
       "      <td>3</td>\n",
       "      <td>6</td>\n",
       "      <td>2020</td>\n",
       "      <td>9</td>\n",
       "    </tr>\n",
       "    <tr>\n",
       "      <th>4</th>\n",
       "      <td>68</td>\n",
       "      <td>male</td>\n",
       "      <td>2020-06-21</td>\n",
       "      <td>2</td>\n",
       "      <td>2</td>\n",
       "      <td>2</td>\n",
       "      <td>1</td>\n",
       "      <td>2</td>\n",
       "      <td>1</td>\n",
       "      <td>2</td>\n",
       "      <td>2</td>\n",
       "      <td>2</td>\n",
       "      <td>2</td>\n",
       "      <td>3</td>\n",
       "      <td>6</td>\n",
       "      <td>2020</td>\n",
       "      <td>21</td>\n",
       "    </tr>\n",
       "    <tr>\n",
       "      <th>336</th>\n",
       "      <td>47</td>\n",
       "      <td>male</td>\n",
       "      <td>2020-03-28</td>\n",
       "      <td>1</td>\n",
       "      <td>1</td>\n",
       "      <td>2</td>\n",
       "      <td>2</td>\n",
       "      <td>2</td>\n",
       "      <td>1</td>\n",
       "      <td>2</td>\n",
       "      <td>1</td>\n",
       "      <td>2</td>\n",
       "      <td>2</td>\n",
       "      <td>3</td>\n",
       "      <td>3</td>\n",
       "      <td>2020</td>\n",
       "      <td>28</td>\n",
       "    </tr>\n",
       "    <tr>\n",
       "      <th>337</th>\n",
       "      <td>43</td>\n",
       "      <td>male</td>\n",
       "      <td>2020-03-29</td>\n",
       "      <td>1</td>\n",
       "      <td>2</td>\n",
       "      <td>2</td>\n",
       "      <td>2</td>\n",
       "      <td>2</td>\n",
       "      <td>2</td>\n",
       "      <td>2</td>\n",
       "      <td>2</td>\n",
       "      <td>2</td>\n",
       "      <td>1</td>\n",
       "      <td>3</td>\n",
       "      <td>3</td>\n",
       "      <td>2020</td>\n",
       "      <td>29</td>\n",
       "    </tr>\n",
       "  </tbody>\n",
       "</table>\n",
       "</div>"
      ],
      "text/plain": [
       "     AGE     SEX  DATE_DIED  PNEUMONIA  COPD  ASTHMA  DIABETES  INMSUPR  \\\n",
       "0     65  female 2020-05-03          1     2       2         2        2   \n",
       "2     55    male 2020-06-09          2     2       2         1        2   \n",
       "4     68    male 2020-06-21          2     2       2         1        2   \n",
       "336   47    male 2020-03-28          1     1       2         2        2   \n",
       "337   43    male 2020-03-29          1     2       2         2        2   \n",
       "\n",
       "     HIPERTENSION  CARDIOVASCULAR  OBESITY  RENAL_CHRONIC  TOBACCO  \\\n",
       "0               1               2        2              2        2   \n",
       "2               2               2        2              2        2   \n",
       "4               1               2        2              2        2   \n",
       "336             1               2        1              2        2   \n",
       "337             2               2        2              2        1   \n",
       "\n",
       "     CLASIFFICATION_FINAL  MONTH_DIED  YEAR_DIED  DAY_DIED  \n",
       "0                       3           5       2020         3  \n",
       "2                       3           6       2020         9  \n",
       "4                       3           6       2020        21  \n",
       "336                     3           3       2020        28  \n",
       "337                     3           3       2020        29  "
      ]
     },
     "execution_count": 189,
     "metadata": {},
     "output_type": "execute_result"
    }
   ],
   "source": [
    "df.head()"
   ]
  },
  {
   "cell_type": "code",
   "execution_count": 94,
   "metadata": {},
   "outputs": [
    {
     "name": "stdout",
     "output_type": "stream",
     "text": [
      "   CLASS  Number of dead  Frequencia relativa  Frequencia relativa %\n",
      "0      1             889             0.016668                    1.7\n",
      "1      2            1792             0.033598                    3.4\n",
      "2      3           50655             0.949734                   95.0\n",
      "3  Total           53336             1.000000                  100.0\n"
     ]
    }
   ],
   "source": [
    "classification_counts= df['CLASIFFICATION_FINAL'].value_counts().to_frame().reset_index().sort_values(by='CLASIFFICATION_FINAL', ascending= True)\n",
    "classification_counts.columns = ['CLASS', 'Number of dead']\n",
    "classification_dies = classification_counts['Number of dead'].sum()\n",
    "total_classification_dies = pd.DataFrame({'CLASS': ['Total'], 'Number of dead': [classification_dies]})\n",
    "classification_counts = pd.concat([classification_counts, total_classification_dies], ignore_index= True)\n",
    "################################\n",
    "frequencia_relativa_classification = classification_counts['Number of dead']/classification_dies\n",
    "frequencia_relativa_classification_percent = frequencia_relativa_classification * 100\n",
    "classification_counts['Frequencia relativa'] = frequencia_relativa_classification\n",
    "classification_counts['Frequencia relativa %'] = frequencia_relativa_classification_percent.round(1)\n",
    "\n",
    "print(classification_counts)"
   ]
  },
  {
   "cell_type": "code",
   "execution_count": 96,
   "metadata": {},
   "outputs": [
    {
     "name": "stdout",
     "output_type": "stream",
     "text": [
      "    Month  Number of dead  Frequencia relativa  Frequencia relativa %\n",
      "0       2               1             0.000019                    0.0\n",
      "1       3              84             0.001575                    0.2\n",
      "2       4            3824             0.071696                    7.2\n",
      "3       5           13496             0.253037                   25.3\n",
      "4       6           18744             0.351432                   35.1\n",
      "5       7           16195             0.303641                   30.4\n",
      "6       8             900             0.016874                    1.7\n",
      "7       9              61             0.001144                    0.1\n",
      "8      10              13             0.000244                    0.0\n",
      "9      11               6             0.000112                    0.0\n",
      "10     12              12             0.000225                    0.0\n",
      "11  Total           53336             1.000000                  100.0\n"
     ]
    }
   ],
   "source": [
    "## We split the month, and then calculate the number of died patients, and then calculate the total.\n",
    "df['MONTH_DIED'] = df['DATE_DIED'].dt.month\n",
    "month_counts = df['MONTH_DIED'].value_counts().to_frame().reset_index().sort_values(by='MONTH_DIED', ascending= True)\n",
    "month_counts.columns = ['Month', 'Number of dead']\n",
    "allmonth_dies = month_counts['Number of dead'].sum()\n",
    "total_month_dies = pd.DataFrame({'Month': ['Total'], 'Number of dead': [allmonth_dies]})\n",
    "month_counts = pd.concat([month_counts, total_month_dies], ignore_index= True)\n",
    "#####################\n",
    "frequencia_relativa_month = month_counts['Number of dead']/allmonth_dies\n",
    "frequencia_relativa_month_percent = frequencia_relativa_month * 100\n",
    "month_counts['Frequencia relativa'] = frequencia_relativa_month\n",
    "month_counts['Frequencia relativa %'] = frequencia_relativa_month_percent.round(1)\n",
    "\n",
    "\n",
    "print(month_counts)"
   ]
  },
  {
   "cell_type": "code",
   "execution_count": 77,
   "metadata": {},
   "outputs": [
    {
     "name": "stdout",
     "output_type": "stream",
     "text": [
      "           Age  Number of dead\n",
      "0      (0, 20]             194\n",
      "1     (20, 30]             810\n",
      "2     (30, 40]            2799\n",
      "3     (40, 50]            7397\n",
      "4     (50, 60]           13002\n",
      "5     (60, 70]           14496\n",
      "6     (70, 80]           10047\n",
      "7     (80, 90]            4053\n",
      "8    (90, 100]             483\n",
      "9   (100, 200]               7\n",
      "10       Total           53288\n"
     ]
    }
   ],
   "source": [
    "faixas_etarias = [0, 20, 30, 40, 50, 60, 70, 80, 90, 100, 200]  \n",
    "df['IDADE_GRUPO'] = pd.cut(df['AGE'], bins=faixas_etarias) \n",
    "contagem_por_grupo = df['IDADE_GRUPO'].value_counts().to_frame().reset_index().sort_values(by = 'IDADE_GRUPO', ascending = True)\n",
    "contagem_por_grupo.columns = ['Age', 'Number of dead']\n",
    "all_dies = contagem_por_grupo['Number of dead'].sum()\n",
    "total_dies = pd.DataFrame({'Age': ['Total'], 'Number of dead': [all_dies]})\n",
    "contagem_por_grupo = pd.concat([contagem_por_grupo, total_dies], ignore_index=True)\n",
    "print(contagem_por_grupo)"
   ]
  }
 ],
 "metadata": {
  "kernelspec": {
   "display_name": "Python 3",
   "language": "python",
   "name": "python3"
  },
  "language_info": {
   "codemirror_mode": {
    "name": "ipython",
    "version": 3
   },
   "file_extension": ".py",
   "mimetype": "text/x-python",
   "name": "python",
   "nbconvert_exporter": "python",
   "pygments_lexer": "ipython3",
   "version": "3.8.10"
  },
  "orig_nbformat": 4
 },
 "nbformat": 4,
 "nbformat_minor": 2
}
