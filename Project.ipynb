{
 "cells": [
  {
   "cell_type": "code",
   "execution_count": 103,
   "metadata": {},
   "outputs": [],
   "source": [
    "import pandas as pd\n",
    "import matplotlib.pyplot as plt\n",
    "import seaborn as sns\n",
    "import numpy as np"
   ]
  },
  {
   "cell_type": "code",
   "execution_count": 104,
   "metadata": {},
   "outputs": [],
   "source": [
    "df = pd.read_csv('datasetcovid.csv')"
   ]
  },
  {
   "cell_type": "code",
   "execution_count": 105,
   "metadata": {},
   "outputs": [
    {
     "name": "stdout",
     "output_type": "stream",
     "text": [
      "<class 'pandas.core.frame.DataFrame'>\n",
      "RangeIndex: 1048575 entries, 0 to 1048574\n",
      "Data columns (total 21 columns):\n",
      " #   Column                Non-Null Count    Dtype \n",
      "---  ------                --------------    ----- \n",
      " 0   USMER                 1048575 non-null  int64 \n",
      " 1   MEDICAL_UNIT          1048575 non-null  int64 \n",
      " 2   SEX                   1048575 non-null  int64 \n",
      " 3   PATIENT_TYPE          1048575 non-null  int64 \n",
      " 4   DATE_DIED             1048575 non-null  object\n",
      " 5   INTUBED               1048575 non-null  int64 \n",
      " 6   PNEUMONIA             1048575 non-null  int64 \n",
      " 7   AGE                   1048575 non-null  int64 \n",
      " 8   PREGNANT              1048575 non-null  int64 \n",
      " 9   DIABETES              1048575 non-null  int64 \n",
      " 10  COPD                  1048575 non-null  int64 \n",
      " 11  ASTHMA                1048575 non-null  int64 \n",
      " 12  INMSUPR               1048575 non-null  int64 \n",
      " 13  HIPERTENSION          1048575 non-null  int64 \n",
      " 14  OTHER_DISEASE         1048575 non-null  int64 \n",
      " 15  CARDIOVASCULAR        1048575 non-null  int64 \n",
      " 16  OBESITY               1048575 non-null  int64 \n",
      " 17  RENAL_CHRONIC         1048575 non-null  int64 \n",
      " 18  TOBACCO               1048575 non-null  int64 \n",
      " 19  CLASIFFICATION_FINAL  1048575 non-null  int64 \n",
      " 20  ICU                   1048575 non-null  int64 \n",
      "dtypes: int64(20), object(1)\n",
      "memory usage: 168.0+ MB\n"
     ]
    }
   ],
   "source": [
    "df.info()"
   ]
  },
  {
   "cell_type": "code",
   "execution_count": 106,
   "metadata": {},
   "outputs": [
    {
     "data": {
      "text/html": [
       "<div>\n",
       "<style scoped>\n",
       "    .dataframe tbody tr th:only-of-type {\n",
       "        vertical-align: middle;\n",
       "    }\n",
       "\n",
       "    .dataframe tbody tr th {\n",
       "        vertical-align: top;\n",
       "    }\n",
       "\n",
       "    .dataframe thead th {\n",
       "        text-align: right;\n",
       "    }\n",
       "</style>\n",
       "<table border=\"1\" class=\"dataframe\">\n",
       "  <thead>\n",
       "    <tr style=\"text-align: right;\">\n",
       "      <th></th>\n",
       "      <th>USMER</th>\n",
       "      <th>MEDICAL_UNIT</th>\n",
       "      <th>SEX</th>\n",
       "      <th>PATIENT_TYPE</th>\n",
       "      <th>DATE_DIED</th>\n",
       "      <th>INTUBED</th>\n",
       "      <th>PNEUMONIA</th>\n",
       "      <th>AGE</th>\n",
       "      <th>PREGNANT</th>\n",
       "      <th>DIABETES</th>\n",
       "      <th>...</th>\n",
       "      <th>ASTHMA</th>\n",
       "      <th>INMSUPR</th>\n",
       "      <th>HIPERTENSION</th>\n",
       "      <th>OTHER_DISEASE</th>\n",
       "      <th>CARDIOVASCULAR</th>\n",
       "      <th>OBESITY</th>\n",
       "      <th>RENAL_CHRONIC</th>\n",
       "      <th>TOBACCO</th>\n",
       "      <th>CLASIFFICATION_FINAL</th>\n",
       "      <th>ICU</th>\n",
       "    </tr>\n",
       "  </thead>\n",
       "  <tbody>\n",
       "    <tr>\n",
       "      <th>0</th>\n",
       "      <td>2</td>\n",
       "      <td>1</td>\n",
       "      <td>1</td>\n",
       "      <td>1</td>\n",
       "      <td>03/05/2020</td>\n",
       "      <td>97</td>\n",
       "      <td>1</td>\n",
       "      <td>65</td>\n",
       "      <td>2</td>\n",
       "      <td>2</td>\n",
       "      <td>...</td>\n",
       "      <td>2</td>\n",
       "      <td>2</td>\n",
       "      <td>1</td>\n",
       "      <td>2</td>\n",
       "      <td>2</td>\n",
       "      <td>2</td>\n",
       "      <td>2</td>\n",
       "      <td>2</td>\n",
       "      <td>3</td>\n",
       "      <td>97</td>\n",
       "    </tr>\n",
       "    <tr>\n",
       "      <th>1</th>\n",
       "      <td>2</td>\n",
       "      <td>1</td>\n",
       "      <td>2</td>\n",
       "      <td>1</td>\n",
       "      <td>03/06/2020</td>\n",
       "      <td>97</td>\n",
       "      <td>1</td>\n",
       "      <td>72</td>\n",
       "      <td>97</td>\n",
       "      <td>2</td>\n",
       "      <td>...</td>\n",
       "      <td>2</td>\n",
       "      <td>2</td>\n",
       "      <td>1</td>\n",
       "      <td>2</td>\n",
       "      <td>2</td>\n",
       "      <td>1</td>\n",
       "      <td>1</td>\n",
       "      <td>2</td>\n",
       "      <td>5</td>\n",
       "      <td>97</td>\n",
       "    </tr>\n",
       "    <tr>\n",
       "      <th>2</th>\n",
       "      <td>2</td>\n",
       "      <td>1</td>\n",
       "      <td>2</td>\n",
       "      <td>2</td>\n",
       "      <td>09/06/2020</td>\n",
       "      <td>1</td>\n",
       "      <td>2</td>\n",
       "      <td>55</td>\n",
       "      <td>97</td>\n",
       "      <td>1</td>\n",
       "      <td>...</td>\n",
       "      <td>2</td>\n",
       "      <td>2</td>\n",
       "      <td>2</td>\n",
       "      <td>2</td>\n",
       "      <td>2</td>\n",
       "      <td>2</td>\n",
       "      <td>2</td>\n",
       "      <td>2</td>\n",
       "      <td>3</td>\n",
       "      <td>2</td>\n",
       "    </tr>\n",
       "    <tr>\n",
       "      <th>3</th>\n",
       "      <td>2</td>\n",
       "      <td>1</td>\n",
       "      <td>1</td>\n",
       "      <td>1</td>\n",
       "      <td>12/06/2020</td>\n",
       "      <td>97</td>\n",
       "      <td>2</td>\n",
       "      <td>53</td>\n",
       "      <td>2</td>\n",
       "      <td>2</td>\n",
       "      <td>...</td>\n",
       "      <td>2</td>\n",
       "      <td>2</td>\n",
       "      <td>2</td>\n",
       "      <td>2</td>\n",
       "      <td>2</td>\n",
       "      <td>2</td>\n",
       "      <td>2</td>\n",
       "      <td>2</td>\n",
       "      <td>7</td>\n",
       "      <td>97</td>\n",
       "    </tr>\n",
       "    <tr>\n",
       "      <th>4</th>\n",
       "      <td>2</td>\n",
       "      <td>1</td>\n",
       "      <td>2</td>\n",
       "      <td>1</td>\n",
       "      <td>21/06/2020</td>\n",
       "      <td>97</td>\n",
       "      <td>2</td>\n",
       "      <td>68</td>\n",
       "      <td>97</td>\n",
       "      <td>1</td>\n",
       "      <td>...</td>\n",
       "      <td>2</td>\n",
       "      <td>2</td>\n",
       "      <td>1</td>\n",
       "      <td>2</td>\n",
       "      <td>2</td>\n",
       "      <td>2</td>\n",
       "      <td>2</td>\n",
       "      <td>2</td>\n",
       "      <td>3</td>\n",
       "      <td>97</td>\n",
       "    </tr>\n",
       "  </tbody>\n",
       "</table>\n",
       "<p>5 rows × 21 columns</p>\n",
       "</div>"
      ],
      "text/plain": [
       "   USMER  MEDICAL_UNIT  SEX  PATIENT_TYPE   DATE_DIED  INTUBED  PNEUMONIA  \\\n",
       "0      2             1    1             1  03/05/2020       97          1   \n",
       "1      2             1    2             1  03/06/2020       97          1   \n",
       "2      2             1    2             2  09/06/2020        1          2   \n",
       "3      2             1    1             1  12/06/2020       97          2   \n",
       "4      2             1    2             1  21/06/2020       97          2   \n",
       "\n",
       "   AGE  PREGNANT  DIABETES  ...  ASTHMA  INMSUPR  HIPERTENSION  OTHER_DISEASE  \\\n",
       "0   65         2         2  ...       2        2             1              2   \n",
       "1   72        97         2  ...       2        2             1              2   \n",
       "2   55        97         1  ...       2        2             2              2   \n",
       "3   53         2         2  ...       2        2             2              2   \n",
       "4   68        97         1  ...       2        2             1              2   \n",
       "\n",
       "   CARDIOVASCULAR  OBESITY  RENAL_CHRONIC  TOBACCO  CLASIFFICATION_FINAL  ICU  \n",
       "0               2        2              2        2                     3   97  \n",
       "1               2        1              1        2                     5   97  \n",
       "2               2        2              2        2                     3    2  \n",
       "3               2        2              2        2                     7   97  \n",
       "4               2        2              2        2                     3   97  \n",
       "\n",
       "[5 rows x 21 columns]"
      ]
     },
     "execution_count": 106,
     "metadata": {},
     "output_type": "execute_result"
    }
   ],
   "source": [
    "df.head()\n"
   ]
  },
  {
   "cell_type": "code",
   "execution_count": 107,
   "metadata": {},
   "outputs": [],
   "source": [
    "good_columns=['AGE', 'DATE_DIED','CLASIFFICATION_FINAL']\n",
    "df = df[good_columns]\n"
   ]
  },
  {
   "cell_type": "code",
   "execution_count": 108,
   "metadata": {},
   "outputs": [
    {
     "data": {
      "text/plain": [
       "(54236, 3)"
      ]
     },
     "execution_count": 108,
     "metadata": {},
     "output_type": "execute_result"
    }
   ],
   "source": [
    "df = df[(df.DATE_DIED != '9999-99-99')]\n",
    "df = df[(df.CLASIFFICATION_FINAL == 2) | (df.CLASIFFICATION_FINAL == 3)| (df.CLASIFFICATION_FINAL == 1)]\n",
    "df.shape"
   ]
  },
  {
   "cell_type": "code",
   "execution_count": 109,
   "metadata": {},
   "outputs": [
    {
     "name": "stdout",
     "output_type": "stream",
     "text": [
      "<class 'pandas.core.frame.DataFrame'>\n",
      "Index: 54236 entries, 0 to 1047638\n",
      "Data columns (total 3 columns):\n",
      " #   Column                Non-Null Count  Dtype \n",
      "---  ------                --------------  ----- \n",
      " 0   AGE                   54236 non-null  int64 \n",
      " 1   DATE_DIED             54236 non-null  object\n",
      " 2   CLASIFFICATION_FINAL  54236 non-null  int64 \n",
      "dtypes: int64(2), object(1)\n",
      "memory usage: 1.7+ MB\n"
     ]
    }
   ],
   "source": [
    "df.info()"
   ]
  },
  {
   "cell_type": "code",
   "execution_count": 149,
   "metadata": {},
   "outputs": [
    {
     "data": {
      "text/html": [
       "<div>\n",
       "<style scoped>\n",
       "    .dataframe tbody tr th:only-of-type {\n",
       "        vertical-align: middle;\n",
       "    }\n",
       "\n",
       "    .dataframe tbody tr th {\n",
       "        vertical-align: top;\n",
       "    }\n",
       "\n",
       "    .dataframe thead th {\n",
       "        text-align: right;\n",
       "    }\n",
       "</style>\n",
       "<table border=\"1\" class=\"dataframe\">\n",
       "  <thead>\n",
       "    <tr style=\"text-align: right;\">\n",
       "      <th></th>\n",
       "      <th>AGE</th>\n",
       "      <th>DATE_DIED</th>\n",
       "      <th>CLASIFFICATION_FINAL</th>\n",
       "      <th>YEAR_DIED</th>\n",
       "      <th>MONTH_DIED</th>\n",
       "      <th>IDADE_GRUPO</th>\n",
       "    </tr>\n",
       "  </thead>\n",
       "  <tbody>\n",
       "    <tr>\n",
       "      <th>0</th>\n",
       "      <td>65</td>\n",
       "      <td>2020-05-03</td>\n",
       "      <td>3- High</td>\n",
       "      <td>2020</td>\n",
       "      <td>5</td>\n",
       "      <td>(63, 71]</td>\n",
       "    </tr>\n",
       "    <tr>\n",
       "      <th>2</th>\n",
       "      <td>55</td>\n",
       "      <td>2020-06-09</td>\n",
       "      <td>3- High</td>\n",
       "      <td>2020</td>\n",
       "      <td>6</td>\n",
       "      <td>(47, 55]</td>\n",
       "    </tr>\n",
       "    <tr>\n",
       "      <th>4</th>\n",
       "      <td>68</td>\n",
       "      <td>2020-06-21</td>\n",
       "      <td>3- High</td>\n",
       "      <td>2020</td>\n",
       "      <td>6</td>\n",
       "      <td>(63, 71]</td>\n",
       "    </tr>\n",
       "    <tr>\n",
       "      <th>336</th>\n",
       "      <td>47</td>\n",
       "      <td>2020-03-28</td>\n",
       "      <td>3- High</td>\n",
       "      <td>2020</td>\n",
       "      <td>3</td>\n",
       "      <td>(39, 47]</td>\n",
       "    </tr>\n",
       "    <tr>\n",
       "      <th>337</th>\n",
       "      <td>43</td>\n",
       "      <td>2020-03-29</td>\n",
       "      <td>3- High</td>\n",
       "      <td>2020</td>\n",
       "      <td>3</td>\n",
       "      <td>(39, 47]</td>\n",
       "    </tr>\n",
       "  </tbody>\n",
       "</table>\n",
       "</div>"
      ],
      "text/plain": [
       "     AGE  DATE_DIED CLASIFFICATION_FINAL  YEAR_DIED  MONTH_DIED IDADE_GRUPO\n",
       "0     65 2020-05-03              3- High       2020           5    (63, 71]\n",
       "2     55 2020-06-09              3- High       2020           6    (47, 55]\n",
       "4     68 2020-06-21              3- High       2020           6    (63, 71]\n",
       "336   47 2020-03-28              3- High       2020           3    (39, 47]\n",
       "337   43 2020-03-29              3- High       2020           3    (39, 47]"
      ]
     },
     "execution_count": 149,
     "metadata": {},
     "output_type": "execute_result"
    }
   ],
   "source": [
    "df.head()"
   ]
  },
  {
   "cell_type": "code",
   "execution_count": 111,
   "metadata": {},
   "outputs": [],
   "source": [
    "df['DATE_DIED'] = pd.to_datetime(df['DATE_DIED'], format='%d/%m/%Y')\n",
    "df = df[~(df['DATE_DIED'].dt.year == 2021)]"
   ]
  },
  {
   "cell_type": "code",
   "execution_count": 112,
   "metadata": {},
   "outputs": [
    {
     "name": "stdout",
     "output_type": "stream",
     "text": [
      "AGE\n",
      "0      48\n",
      "1      38\n",
      "2       9\n",
      "3       5\n",
      "4       5\n",
      "       ..\n",
      "100    14\n",
      "101     5\n",
      "102     1\n",
      "103     1\n",
      "119     1\n",
      "Name: count, Length: 105, dtype: int64\n"
     ]
    }
   ],
   "source": [
    "df_age=df['AGE'].value_counts().sort_index()\n",
    "print(df_age)"
   ]
  },
  {
   "cell_type": "code",
   "execution_count": 113,
   "metadata": {},
   "outputs": [
    {
     "name": "stdout",
     "output_type": "stream",
     "text": [
      "media: 61.51958190731662\n"
     ]
    }
   ],
   "source": [
    "media = df['AGE'].mean()\n",
    "print(f\"media: {media}\")"
   ]
  },
  {
   "cell_type": "code",
   "execution_count": 127,
   "metadata": {},
   "outputs": [],
   "source": [
    "df['CLASIFFICATION_FINAL'] = df['CLASIFFICATION_FINAL'].replace({1:'1- low ', 2:'2- Moderated', 3:'3- High'})"
   ]
  },
  {
   "cell_type": "code",
   "execution_count": 116,
   "metadata": {},
   "outputs": [
    {
     "name": "stdout",
     "output_type": "stream",
     "text": [
      "YEAR_DIED\n",
      "2020    54055\n",
      "Name: count, dtype: int64\n"
     ]
    }
   ],
   "source": [
    "df['YEAR_DIED'] = df['DATE_DIED'].dt.year\n",
    "year_counts = df['YEAR_DIED'].value_counts()\n",
    "print(year_counts)"
   ]
  },
  {
   "cell_type": "code",
   "execution_count": 117,
   "metadata": {},
   "outputs": [
    {
     "data": {
      "text/html": [
       "<div>\n",
       "<style scoped>\n",
       "    .dataframe tbody tr th:only-of-type {\n",
       "        vertical-align: middle;\n",
       "    }\n",
       "\n",
       "    .dataframe tbody tr th {\n",
       "        vertical-align: top;\n",
       "    }\n",
       "\n",
       "    .dataframe thead th {\n",
       "        text-align: right;\n",
       "    }\n",
       "</style>\n",
       "<table border=\"1\" class=\"dataframe\">\n",
       "  <thead>\n",
       "    <tr style=\"text-align: right;\">\n",
       "      <th></th>\n",
       "      <th>AGE</th>\n",
       "      <th>DATE_DIED</th>\n",
       "      <th>CLASIFFICATION_FINAL</th>\n",
       "      <th>YEAR_DIED</th>\n",
       "    </tr>\n",
       "  </thead>\n",
       "  <tbody>\n",
       "    <tr>\n",
       "      <th>0</th>\n",
       "      <td>65</td>\n",
       "      <td>2020-05-03</td>\n",
       "      <td>3</td>\n",
       "      <td>2020</td>\n",
       "    </tr>\n",
       "    <tr>\n",
       "      <th>2</th>\n",
       "      <td>55</td>\n",
       "      <td>2020-06-09</td>\n",
       "      <td>3</td>\n",
       "      <td>2020</td>\n",
       "    </tr>\n",
       "    <tr>\n",
       "      <th>4</th>\n",
       "      <td>68</td>\n",
       "      <td>2020-06-21</td>\n",
       "      <td>3</td>\n",
       "      <td>2020</td>\n",
       "    </tr>\n",
       "    <tr>\n",
       "      <th>336</th>\n",
       "      <td>47</td>\n",
       "      <td>2020-03-28</td>\n",
       "      <td>3</td>\n",
       "      <td>2020</td>\n",
       "    </tr>\n",
       "    <tr>\n",
       "      <th>337</th>\n",
       "      <td>43</td>\n",
       "      <td>2020-03-29</td>\n",
       "      <td>3</td>\n",
       "      <td>2020</td>\n",
       "    </tr>\n",
       "  </tbody>\n",
       "</table>\n",
       "</div>"
      ],
      "text/plain": [
       "     AGE  DATE_DIED  CLASIFFICATION_FINAL  YEAR_DIED\n",
       "0     65 2020-05-03                     3       2020\n",
       "2     55 2020-06-09                     3       2020\n",
       "4     68 2020-06-21                     3       2020\n",
       "336   47 2020-03-28                     3       2020\n",
       "337   43 2020-03-29                     3       2020"
      ]
     },
     "execution_count": 117,
     "metadata": {},
     "output_type": "execute_result"
    }
   ],
   "source": [
    "df.head()"
   ]
  },
  {
   "cell_type": "code",
   "execution_count": 150,
   "metadata": {},
   "outputs": [
    {
     "name": "stdout",
     "output_type": "stream",
     "text": [
      "  COVID-19 classification  Number of deaths  Frequencia relativa  \\\n",
      "0                 1- low                942             0.017427   \n",
      "1            2- Moderated              1840             0.034039   \n",
      "2                 3- High             51273             0.948534   \n",
      "3                   Total             54055             1.000000   \n",
      "\n",
      "   Frequencia relativa %  Frequencia acumulada  \n",
      "0                    1.7                   942  \n",
      "1                    3.4                  2782  \n",
      "2                   94.9                 54055  \n",
      "3                  100.0                108110  \n"
     ]
    }
   ],
   "source": [
    "classification_counts= df['CLASIFFICATION_FINAL'].value_counts().to_frame().reset_index().sort_values(by = 'CLASIFFICATION_FINAL')\n",
    "classification_counts_total= df['CLASIFFICATION_FINAL'].value_counts().to_frame().reset_index().sort_values( by ='CLASIFFICATION_FINAL')\n",
    "classification_counts.columns = ['COVID-19 classification', 'Number of deaths']\n",
    "classification_counts_total.columns = ['COVID-19 classification', 'Number of deaths']\n",
    "classification_dies = classification_counts['Number of deaths'].sum()\n",
    "classification_dies = classification_counts_total['Number of deaths'].sum()\n",
    "total_classification_dies = pd.DataFrame({'COVID-19 classification': ['Total'], 'Number of deaths': [classification_dies]})\n",
    "classification_counts_total = pd.concat([classification_counts, total_classification_dies], ignore_index= True)\n",
    "################################\n",
    "frequencia_relativa_classification = classification_counts_total['Number of deaths']/classification_dies\n",
    "frequencia_relativa_classification_percent = frequencia_relativa_classification * 100\n",
    "classification_counts_total['Frequencia relativa'] = frequencia_relativa_classification\n",
    "classification_counts_total['Frequencia relativa %'] = frequencia_relativa_classification_percent.round(1)\n",
    "classification_counts_total['Frequencia acumulada'] = classification_counts_total['Number of deaths'].cumsum().round(2)\n",
    "\n",
    "print(classification_counts_total)"
   ]
  },
  {
   "cell_type": "code",
   "execution_count": 135,
   "metadata": {},
   "outputs": [
    {
     "name": "stdout",
     "output_type": "stream",
     "text": [
      "    Month  Number of deaths  Frequencia relativa  Frequencia relativa %  \\\n",
      "0       2                 1             0.000018                   0.00   \n",
      "1       3                84             0.001554                   0.16   \n",
      "2       4              3908             0.072297                   7.23   \n",
      "3       5             13788             0.255074                  25.51   \n",
      "4       6             18928             0.350162                  35.02   \n",
      "5       7             16342             0.302322                  30.23   \n",
      "6       8               910             0.016835                   1.68   \n",
      "7       9                61             0.001128                   0.11   \n",
      "8      10                13             0.000240                   0.02   \n",
      "9      11                 6             0.000111                   0.01   \n",
      "10     12                14             0.000259                   0.03   \n",
      "11  Total             54055             1.000000                 100.00   \n",
      "\n",
      "    Frequencia acumulada  \n",
      "0                      1  \n",
      "1                     85  \n",
      "2                   3993  \n",
      "3                  17781  \n",
      "4                  36709  \n",
      "5                  53051  \n",
      "6                  53961  \n",
      "7                  54022  \n",
      "8                  54035  \n",
      "9                  54041  \n",
      "10                 54055  \n",
      "11                108110  \n"
     ]
    }
   ],
   "source": [
    "## We split the month, then calculate the number of died patients and calculate the total.\n",
    "df['MONTH_DIED'] = df['DATE_DIED'].dt.month\n",
    "month_counts = df['MONTH_DIED'].value_counts().to_frame().reset_index().sort_values(by='MONTH_DIED', ascending= True)\n",
    "month_counts_total = df['MONTH_DIED'].value_counts().to_frame().reset_index().sort_values(by='MONTH_DIED', ascending= True)\n",
    "month_counts.columns = ['Month', 'Number of deaths']\n",
    "month_counts_total.columns = ['Month', 'Number of deaths']\n",
    "allmonth_dies = month_counts_total['Number of deaths'].sum()\n",
    "total_month_dies = pd.DataFrame({'Month': ['Total'], 'Number of deaths': [allmonth_dies]})\n",
    "month_counts_total = pd.concat([month_counts, total_month_dies], ignore_index= True)\n",
    "#####################\n",
    "frequencia_relativa_month = month_counts_total['Number of deaths']/allmonth_dies\n",
    "frequencia_relativa_month_percent = frequencia_relativa_month * 100\n",
    "month_counts_total['Frequencia relativa'] = frequencia_relativa_month\n",
    "month_counts_total['Frequencia relativa %'] = frequencia_relativa_month_percent.round(2)\n",
    "month_counts_total['Frequencia acumulada'] = month_counts_total['Number of deaths'].cumsum().round(2)\n",
    "\n",
    "\n",
    "print(month_counts_total)"
   ]
  },
  {
   "cell_type": "code",
   "execution_count": 120,
   "metadata": {},
   "outputs": [
    {
     "name": "stdout",
     "output_type": "stream",
     "text": [
      "16.61835837655693\n",
      "7.2209298464330125\n"
     ]
    }
   ],
   "source": [
    "k = 1 + 3.3* np.log10(54055)\n",
    "print(k)\n",
    "\n",
    "f = 120/k\n",
    "print(f)"
   ]
  },
  {
   "cell_type": "code",
   "execution_count": 131,
   "metadata": {},
   "outputs": [
    {
     "name": "stdout",
     "output_type": "stream",
     "text": [
      "           Age  Number of dead  Frequencia_relativa  Frequencia_relativa %  \\\n",
      "0      (-1, 7]             119             0.002201                    0.2   \n",
      "1      (7, 15]              52             0.000962                    0.1   \n",
      "2     (15, 23]             204             0.003774                    0.4   \n",
      "3     (23, 31]             885             0.016372                    1.6   \n",
      "4     (31, 39]            2198             0.040662                    4.1   \n",
      "5     (39, 47]            5134             0.094977                    9.5   \n",
      "6     (47, 55]            8770             0.162242                   16.2   \n",
      "7     (55, 63]           11761             0.217575                   21.8   \n",
      "8     (63, 71]           11488             0.212524                   21.3   \n",
      "9     (71, 79]            8061             0.149126                   14.9   \n",
      "10    (79, 85]            3524             0.065193                    6.5   \n",
      "11    (85, 93]            1647             0.030469                    3.0   \n",
      "12   (93, 101]             209             0.003866                    0.4   \n",
      "13  (101, 109]               2             0.000037                    0.0   \n",
      "14  (109, 117]               0             0.000000                    0.0   \n",
      "15  (117, 125]               1             0.000018                    0.0   \n",
      "16       Total           54055             1.000000                  100.0   \n",
      "\n",
      "    Frequencia acumulada  \n",
      "0                    119  \n",
      "1                    171  \n",
      "2                    375  \n",
      "3                   1260  \n",
      "4                   3458  \n",
      "5                   8592  \n",
      "6                  17362  \n",
      "7                  29123  \n",
      "8                  40611  \n",
      "9                  48672  \n",
      "10                 52196  \n",
      "11                 53843  \n",
      "12                 54052  \n",
      "13                 54054  \n",
      "14                 54054  \n",
      "15                 54055  \n",
      "16                108110  \n"
     ]
    }
   ],
   "source": [
    "\n",
    "\n",
    "faixas_etarias = [-1, 7, 15, 23, 31, 39, 47, 55 , 63, 71, 79, 85, 93, 101, 109, 117, 125]\n",
    "\n",
    "df['IDADE_GRUPO'] = pd.cut(df['AGE'], bins=faixas_etarias) \n",
    "contagem_por_grupo = df['IDADE_GRUPO'].value_counts().to_frame().reset_index().sort_values(by = 'IDADE_GRUPO', ascending = True)\n",
    "contagem_por_grupo_total = df['IDADE_GRUPO'].value_counts().to_frame().reset_index().sort_values(by = 'IDADE_GRUPO', ascending = True)\n",
    "\n",
    "contagem_por_grupo.columns = ['Age', 'Number of dead']\n",
    "contagem_por_grupo_total.columns = ['Age', 'Number of dead']\n",
    "\n",
    "all_dies = contagem_por_grupo_total['Number of dead'].sum()\n",
    "total_dies = pd.DataFrame({'Age': ['Total'], 'Number of dead': [all_dies]})\n",
    "contagem_por_grupo_total = pd.concat([contagem_por_grupo, total_dies], ignore_index=True)\n",
    "#####\n",
    "frequencia_relativa_age = contagem_por_grupo_total['Number of dead']/all_dies\n",
    "frequencia_relativa_age_percent = frequencia_relativa_age * 100\n",
    "contagem_por_grupo_total['Frequencia_relativa']= frequencia_relativa_age\n",
    "contagem_por_grupo_total['Frequencia_relativa %'] =frequencia_relativa_age_percent.round(1)\n",
    "contagem_por_grupo_total['Frequencia acumulada'] = contagem_por_grupo_total['Number of dead'].cumsum().round(2)\n",
    "print(contagem_por_grupo_total)"
   ]
  },
  {
   "cell_type": "code",
   "execution_count": 122,
   "metadata": {},
   "outputs": [
    {
     "data": {
      "image/png": "[encoded data removed]",
      "text/plain": [
       "<Figure size 1000x600 with 1 Axes>"
      ]
     },
     "metadata": {},
     "output_type": "display_data"
    }
   ],
   "source": [
    "contagem_por_grupo['Age'] = contagem_por_grupo['Age'].astype(str)\n",
    "\n",
    "plt.figure(figsize=(10, 6)) \n",
    "plt.bar(contagem_por_grupo['Age'], contagem_por_grupo['Number of dead'])\n",
    "\n",
    "plt.xlabel('Age group')\n",
    "plt.ylabel('Number of death')\n",
    "plt.title('Histogram of death distributions for each group')\n",
    "\n",
    "plt.xticks(rotation=45, ha=\"right\")\n",
    "\n",
    "plt.tight_layout()\n",
    "plt.show()"
   ]
  },
  {
   "cell_type": "code",
   "execution_count": 129,
   "metadata": {},
   "outputs": [
    {
     "data": {
      "image/png": "[encoded data removed]",
      "text/plain": [
       "<Figure size 1000x600 with 1 Axes>"
      ]
     },
     "metadata": {},
     "output_type": "display_data"
    }
   ],
   "source": [
    "classification_counts['COVID-19 classification'] =classification_counts['COVID-19 classification'].astype(str)\n",
    "plt.figure(figsize=(10, 6))  \n",
    "plt.bar(classification_counts['COVID-19 classification'], classification_counts['Number of deaths'])\n",
    "\n",
    "\n",
    "plt.xlabel('COVID-19 Classificaton')\n",
    "plt.ylabel('Number of deaths')\n",
    "plt.title('Histogram of death distribuitions for each classification')\n",
    "\n",
    "plt.xticks(rotation=45, ha=\"right\")\n",
    "\n",
    "plt.tight_layout()\n",
    "plt.show()"
   ]
  },
  {
   "cell_type": "code",
   "execution_count": 124,
   "metadata": {},
   "outputs": [
    {
     "data": {
      "image/png": "[encoded data removed]",
      "text/plain": [
       "<Figure size 800x600 with 1 Axes>"
      ]
     },
     "metadata": {},
     "output_type": "display_data"
    }
   ],
   "source": [
    "plt.figure(figsize=(8, 6))  \n",
    "plt.bar(month_counts['Month'], month_counts['Number of deaths'])\n",
    "\n",
    "\n",
    "plt.xlabel('Months')\n",
    "plt.ylabel('Number of deaths')\n",
    "plt.title('Histogram of death distribuition for each months')\n",
    "\n",
    "plt.xticks(rotation=45, ha=\"right\")\n",
    "\n",
    "plt.tight_layout()\n",
    "plt.show()"
   ]
  },
  {
   "cell_type": "markdown",
   "metadata": {},
   "source": [
    "Moda = linha com maior frequencia\n",
    "Moda age = 7     55 + 63/2 (59)\n",
    "Moda month= 4       6             18928\n",
    "moda class =    51273  HIGH"
   ]
  },
  {
   "cell_type": "markdown",
   "metadata": {},
   "source": [
    "Mediana age  -> 7 55+63/2 = 59"
   ]
  },
  {
   "cell_type": "code",
   "execution_count": 125,
   "metadata": {},
   "outputs": [
    {
     "data": {
      "text/html": [
       "<div>\n",
       "<style scoped>\n",
       "    .dataframe tbody tr th:only-of-type {\n",
       "        vertical-align: middle;\n",
       "    }\n",
       "\n",
       "    .dataframe tbody tr th {\n",
       "        vertical-align: top;\n",
       "    }\n",
       "\n",
       "    .dataframe thead th {\n",
       "        text-align: right;\n",
       "    }\n",
       "</style>\n",
       "<table border=\"1\" class=\"dataframe\">\n",
       "  <thead>\n",
       "    <tr style=\"text-align: right;\">\n",
       "      <th></th>\n",
       "      <th>10</th>\n",
       "      <th>5</th>\n",
       "      <th>3</th>\n",
       "      <th>2</th>\n",
       "      <th>0</th>\n",
       "      <th>1</th>\n",
       "      <th>4</th>\n",
       "      <th>6</th>\n",
       "      <th>8</th>\n",
       "      <th>9</th>\n",
       "      <th>7</th>\n",
       "    </tr>\n",
       "  </thead>\n",
       "  <tbody>\n",
       "    <tr>\n",
       "      <th>Month</th>\n",
       "      <td>2</td>\n",
       "      <td>3</td>\n",
       "      <td>4</td>\n",
       "      <td>5</td>\n",
       "      <td>6</td>\n",
       "      <td>7</td>\n",
       "      <td>8</td>\n",
       "      <td>9</td>\n",
       "      <td>10</td>\n",
       "      <td>11</td>\n",
       "      <td>12</td>\n",
       "    </tr>\n",
       "    <tr>\n",
       "      <th>Number of deaths</th>\n",
       "      <td>1</td>\n",
       "      <td>84</td>\n",
       "      <td>3908</td>\n",
       "      <td>13788</td>\n",
       "      <td>18928</td>\n",
       "      <td>16342</td>\n",
       "      <td>910</td>\n",
       "      <td>61</td>\n",
       "      <td>13</td>\n",
       "      <td>6</td>\n",
       "      <td>14</td>\n",
       "    </tr>\n",
       "  </tbody>\n",
       "</table>\n",
       "</div>"
      ],
      "text/plain": [
       "                  10  5     3      2      0      1    4   6   8   9   7 \n",
       "Month              2   3     4      5      6      7    8   9  10  11  12\n",
       "Number of deaths   1  84  3908  13788  18928  16342  910  61  13   6  14"
      ]
     },
     "execution_count": 125,
     "metadata": {},
     "output_type": "execute_result"
    }
   ],
   "source": [
    "month_counts.T"
   ]
  },
  {
   "cell_type": "code",
   "execution_count": 133,
   "metadata": {},
   "outputs": [
    {
     "name": "stdout",
     "output_type": "stream",
     "text": [
      "2.0\n",
      "0.18181818181818182\n"
     ]
    }
   ],
   "source": [
    "soma = month_counts_total['Frequencia relativa'].sum()\n",
    "print(soma)\n",
    "media = soma/11\n",
    "print(media)"
   ]
  },
  {
   "cell_type": "code",
   "execution_count": 130,
   "metadata": {},
   "outputs": [
    {
     "data": {
      "text/html": [
       "<div>\n",
       "<style scoped>\n",
       "    .dataframe tbody tr th:only-of-type {\n",
       "        vertical-align: middle;\n",
       "    }\n",
       "\n",
       "    .dataframe tbody tr th {\n",
       "        vertical-align: top;\n",
       "    }\n",
       "\n",
       "    .dataframe thead th {\n",
       "        text-align: right;\n",
       "    }\n",
       "</style>\n",
       "<table border=\"1\" class=\"dataframe\">\n",
       "  <thead>\n",
       "    <tr style=\"text-align: right;\">\n",
       "      <th></th>\n",
       "      <th>2</th>\n",
       "      <th>1</th>\n",
       "      <th>0</th>\n",
       "    </tr>\n",
       "  </thead>\n",
       "  <tbody>\n",
       "    <tr>\n",
       "      <th>COVID-19 classification</th>\n",
       "      <td>1- low</td>\n",
       "      <td>2- Moderated</td>\n",
       "      <td>3- High</td>\n",
       "    </tr>\n",
       "    <tr>\n",
       "      <th>Number of deaths</th>\n",
       "      <td>942</td>\n",
       "      <td>1840</td>\n",
       "      <td>51273</td>\n",
       "    </tr>\n",
       "  </tbody>\n",
       "</table>\n",
       "</div>"
      ],
      "text/plain": [
       "                               2             1        0\n",
       "COVID-19 classification  1- low   2- Moderated  3- High\n",
       "Number of deaths             942          1840    51273"
      ]
     },
     "execution_count": 130,
     "metadata": {},
     "output_type": "execute_result"
    }
   ],
   "source": [
    "classification_counts.T"
   ]
  },
  {
   "cell_type": "code",
   "execution_count": 137,
   "metadata": {},
   "outputs": [
    {
     "name": "stdout",
     "output_type": "stream",
     "text": [
      "Média 18018.333333333332\n"
     ]
    }
   ],
   "source": [
    "# media de mortes por classe\n",
    "print('Média {}'.format(classification_counts['Number of deaths'].mean()))"
   ]
  },
  {
   "cell_type": "code",
   "execution_count": 140,
   "metadata": {},
   "outputs": [
    {
     "name": "stdout",
     "output_type": "stream",
     "text": [
      "Média Month                  7.000000\n",
      "Number of deaths    4914.090909\n",
      "dtype: float64\n"
     ]
    }
   ],
   "source": [
    "## media de morte por meses\n",
    "print('Média {}'.format(month_counts.mean()))"
   ]
  },
  {
   "cell_type": "code",
   "execution_count": 148,
   "metadata": {},
   "outputs": [
    {
     "name": "stdout",
     "output_type": "stream",
     "text": [
      "3378.4375\n"
     ]
    }
   ],
   "source": [
    "# media de morte por grupo\n",
    "media = contagem_por_grupo['Number of dead'].mean()\n",
    "print(media)"
   ]
  },
  {
   "cell_type": "code",
   "execution_count": 155,
   "metadata": {},
   "outputs": [
    {
     "data": {
      "text/plain": [
       "Month                  5.0\n",
       "Number of deaths    8834.5\n",
       "dtype: float64"
      ]
     },
     "execution_count": 155,
     "metadata": {},
     "output_type": "execute_result"
    }
   ],
   "source": [
    "IQR_sal = month_counts.quantile(0.75) - month_counts.quantile(0.25)\n",
    "np.round(IQR_sal,2)"
   ]
  }
 ],
 "metadata": {
  "kernelspec": {
   "display_name": "Python 3",
   "language": "python",
   "name": "python3"
  },
  "language_info": {
   "codemirror_mode": {
    "name": "ipython",
    "version": 3
   },
   "file_extension": ".py",
   "mimetype": "text/x-python",
   "name": "python",
   "nbconvert_exporter": "python",
   "pygments_lexer": "ipython3",
   "version": "3.8.10"
  },
  "orig_nbformat": 4
 },
 "nbformat": 4,
 "nbformat_minor": 2
}
